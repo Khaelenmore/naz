{
 "cells": [
  {
   "cell_type": "markdown",
   "metadata": {
    "slideshow": {
     "slide_type": "slide"
    }
   },
   "source": [
    "# topics                   \n",
    "1. SMPP spec intro               \n",
    "2. SMPP & python intro        \n",
    "3. current lay of the land          \n",
    "    3.1 problems with current solutions           \n",
    "4. naz intro                     \n",
    "    4.1 architecture              \n",
    "    4.2 usage                    \n",
    "5. naz features         \n",
    "    5.1 async           \n",
    "    5.2 observability            \n",
    "    5.3 Rate limiting             \n",
    "    5.4 Throttle handling              \n",
    "    5.5 Queuing            \n",
    "6. then what? "
   ]
  },
  {
   "cell_type": "markdown",
   "metadata": {
    "slideshow": {
     "slide_type": "slide"
    }
   },
   "source": [
    "## 1. SMPP spec intro                 \n",
    "The SMPP protocol is an open protocl designed for transfer of short message data between a Message Center(SMSC/USSD server etc) & a SMS application system.                \n",
    "SMPP is based on the exchange of request and response protocol data units(PDUs) between the client/ESME and the server/SMSC over an underlying TCP/IP network connection.                \n"
   ]
  },
  {
   "cell_type": "markdown",
   "metadata": {
    "slideshow": {
     "slide_type": "slide"
    }
   },
   "source": [
    "#### 1.1 sequence of requests \n",
    "![Image of sequence](sequence.png)"
   ]
  },
  {
   "cell_type": "markdown",
   "metadata": {
    "slideshow": {
     "slide_type": "slide"
    }
   },
   "source": [
    "#### 1.2 PDU format\n",
    "![Image of pdu format](pdu_format.png)"
   ]
  },
  {
   "cell_type": "code",
   "execution_count": 4,
   "metadata": {
    "slideshow": {
     "slide_type": "slide"
    }
   },
   "outputs": [
    {
     "data": {
      "text/plain": [
       "16"
      ]
     },
     "execution_count": 4,
     "metadata": {},
     "output_type": "execute_result"
    }
   ],
   "source": [
    "import socket\n",
    "import struct\n",
    "\n",
    "# 1. network connect\n",
    "sock = socket.socket(socket.AF_INET, socket.SOCK_STREAM)\n",
    "sock.settimeout(5)\n",
    "sock.connect(('127.0.0.1', 2775))\n",
    "\n",
    "# 2. create PDU\n",
    "body = b\"\"\n",
    "command_length = 16 + len(body)  # 16 is for headers\n",
    "command_id = 21 # enquire_link PDU\n",
    "command_status = 0\n",
    "sequence_number = 1\n",
    "header = struct.pack(\n",
    "    \">IIII\", command_length, command_id, command_status, sequence_number\n",
    ")\n",
    "\n",
    "# send PDU\n",
    "full_pdu = header + body\n",
    "sock.send(full_pdu)"
   ]
  },
  {
   "cell_type": "markdown",
   "metadata": {
    "slideshow": {
     "slide_type": "slide"
    }
   },
   "source": [
    "## 3. current lay of the land               \n",
    "- github.com/podshumok/python-smpplib               \n",
    "- github.com/praekelt/vumi                    \n",
    "- ... couple more"
   ]
  },
  {
   "cell_type": "markdown",
   "metadata": {
    "slideshow": {
     "slide_type": "slide"
    }
   },
   "source": [
    "#### 3.1 problems with current solutions           \n",
    "    - complexity of code base    \n",
    "    - coupling with other things(rabbitMQ, redis, Twisted)      \n",
    "    - non-granular configurability         \n",
    "      - (PR #352 what happens when SMSC throttles, you can only set `throttle_delay: X seconds` )\n",
    "    - maintenance debt:\n",
    "      - (PR #342 disable vumi sentry integration; vumi has not updated raven dependancies)\n",
    "      - upgrade to python3 but transport is yet to(because vumi is py2)\n",
    "    - lack of visibility      \n",
    "      - (PR #335 and PR #327 enrich queue to vumi logging). \n",
    "      - PR #336, PR #339"
   ]
  },
  {
   "cell_type": "code",
   "execution_count": null,
   "metadata": {
    "slideshow": {
     "slide_type": "slide"
    }
   },
   "outputs": [],
   "source": []
  }
 ],
 "metadata": {
  "kernelspec": {
   "display_name": "Python 3",
   "language": "python",
   "name": "python3"
  },
  "language_info": {
   "codemirror_mode": {
    "name": "ipython",
    "version": 3
   },
   "file_extension": ".py",
   "mimetype": "text/x-python",
   "name": "python",
   "nbconvert_exporter": "python",
   "pygments_lexer": "ipython3",
   "version": "3.6.5"
  }
 },
 "nbformat": 4,
 "nbformat_minor": 2
}
